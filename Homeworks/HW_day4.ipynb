{
 "metadata": {
  "language_info": {
   "codemirror_mode": {
    "name": "ipython",
    "version": 3
   },
   "file_extension": ".py",
   "mimetype": "text/x-python",
   "name": "python",
   "nbconvert_exporter": "python",
   "pygments_lexer": "ipython3",
   "version": "3.7.4-final"
  },
  "orig_nbformat": 2,
  "kernelspec": {
   "name": "python3",
   "display_name": "Python 3",
   "language": "python"
  }
 },
 "nbformat": 4,
 "nbformat_minor": 2,
 "cells": [
  {
   "source": [
    "**TASK: ** Finding prime numbers between 0 and 100 using functions"
   ],
   "cell_type": "markdown",
   "metadata": {}
  },
  {
   "cell_type": "code",
   "execution_count": 2,
   "metadata": {},
   "outputs": [
    {
     "output_type": "stream",
     "name": "stdout",
     "text": [
      "Prime Nums:  {2, 3, 5, 7, 11, 13, 17, 19, 23, 29, 31, 37, 41, 43, 47, 53, 59, 61, 67, 71, 73, 79, 83, 89, 97}\n"
     ]
    }
   ],
   "source": [
    "def prime_num_sorter(lower, upper):\n",
    "    primenum = {2}\n",
    "    for i in range(lower,upper):  \n",
    "        if i > 1:  \n",
    "            for j in range(2,i):  \n",
    "                if (i % j) == 0:  \n",
    "                    break  \n",
    "            else:  \n",
    "                primenum.add(i)  \n",
    "    return primenum\n",
    "\n",
    "print(\"Prime Nums: \", prime_num_sorter(0,100))"
   ]
  }
 ]
}