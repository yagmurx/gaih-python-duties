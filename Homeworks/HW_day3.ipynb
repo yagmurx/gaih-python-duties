{
 "metadata": {
  "language_info": {
   "codemirror_mode": {
    "name": "ipython",
    "version": 3
   },
   "file_extension": ".py",
   "mimetype": "text/x-python",
   "name": "python",
   "nbconvert_exporter": "python",
   "pygments_lexer": "ipython3",
   "version": "3.7.4-final"
  },
  "orig_nbformat": 2,
  "kernelspec": {
   "name": "python3",
   "display_name": "Python 3",
   "language": "python"
  }
 },
 "nbformat": 4,
 "nbformat_minor": 2,
 "cells": [
  {
   "source": [
    "**Task 1:** User Login Application:\n",
    "    -Get username and password values from the user.\n",
    "    -Check the values in an if statement and tell the user if they were successful."
   ],
   "cell_type": "markdown",
   "metadata": {}
  },
  {
   "cell_type": "code",
   "execution_count": 7,
   "metadata": {},
   "outputs": [
    {
     "output_type": "stream",
     "name": "stdout",
     "text": [
      "Wrong site dude\n"
     ]
    }
   ],
   "source": [
    "username = \"MrTrue\"\n",
    "password = \"your_hw_instructions_are_awful\"\n",
    "\n",
    "signin_username = input(\"Enter your username\")\n",
    "signin_password = input(\"Enter your password\")\n",
    "\n",
    "if signin_username == username and signin_password == password:\n",
    "    print(\"Sign in successed\")\n",
    "elif signin_username == username and signin_password != password:\n",
    "    print(\"Wrong Password\")\n",
    "elif signin_username != username and signin_password == password:\n",
    "    print(\"Wrong username\")\n",
    "else:\n",
    "    print(\"Wrong door dude\")"
   ]
  },
  {
   "source": [
    "**Task 1 with dictionary**"
   ],
   "cell_type": "markdown",
   "metadata": {}
  },
  {
   "cell_type": "code",
   "execution_count": 14,
   "metadata": {},
   "outputs": [
    {
     "output_type": "stream",
     "name": "stdout",
     "text": [
      "Wrong door dude\n"
     ]
    }
   ],
   "source": [
    "sign_base = {\"username\" : \"MrTrue\", \"password\" : \"CogitoErgoSum\"}\n",
    "\n",
    "sign_base[\"signuser\"] = input(\"Enter your username\")\n",
    "sign_base[\"signpass\"] = input(\"Enter your password\")\n",
    "\n",
    "if sign_base.get(\"username\") == sign_base.get(\"signuser\") and sign_base.get(\"password\") == sign_base.get(\"signpass\"):\n",
    "    print(\"Sign in successed\")\n",
    "elif sign_base.get(\"username\") == sign_base.get(\"signuser\") and sign_base.get(\"password\") != sign_base.get(\"signpass\"):\n",
    "    print(\"Wrong Password\")\n",
    "elif sign_base.get(\"username\") != sign_base.get(\"signuser\") and sign_base.get(\"password\") == sign_base.get(\"signpass\"):\n",
    "    print(\"Wrong username\")\n",
    "else:\n",
    "    print(\"Wrong door dude\")"
   ]
  }
 ]
}