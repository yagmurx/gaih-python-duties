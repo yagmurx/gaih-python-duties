{
 "metadata": {
  "language_info": {
   "codemirror_mode": {
    "name": "ipython",
    "version": 3
   },
   "file_extension": ".py",
   "mimetype": "text/x-python",
   "name": "python",
   "nbconvert_exporter": "python",
   "pygments_lexer": "ipython3",
   "version": "3.7.4-final"
  },
  "orig_nbformat": 2,
  "kernelspec": {
   "name": "python3",
   "display_name": "Python 3",
   "language": "python"
  }
 },
 "nbformat": 4,
 "nbformat_minor": 2,
 "cells": [
  {
   "source": [
    "**Task 1:**  Create a list and swap the second half of the list with the first half of the list and print the list on the screen"
   ],
   "cell_type": "markdown",
   "metadata": {}
  },
  {
   "source": [
    "mylist = [1,2,3,4,5,6,7,8,9,10,11,12,13,14]\n",
    "print(mylist)\n",
    "mid = int(len(mylist)/2)\n",
    "\n",
    "for i in range(mid):\n",
    "    mylist[i], mylist[mid+i] = mylist[mid+i], mylist[i]\n",
    "print(mylist)"
   ],
   "cell_type": "code",
   "metadata": {},
   "execution_count": 1,
   "outputs": [
    {
     "output_type": "stream",
     "name": "stdout",
     "text": [
      "[1, 2, 3, 4, 5, 6, 7, 8, 9, 10, 11, 12, 13, 14]\n[8, 9, 10, 11, 12, 13, 14, 1, 2, 3, 4, 5, 6, 7]\n"
     ]
    }
   ]
  },
  {
   "source": [
    "**Task 2:** Ask the user to input a single digit integer to a variabla 'n' Then, print out all the even numbers from 0 to n (including n)"
   ],
   "cell_type": "markdown",
   "metadata": {}
  },
  {
   "cell_type": "code",
   "execution_count": 13,
   "metadata": {},
   "outputs": [
    {
     "output_type": "stream",
     "name": "stdout",
     "text": [
      "[0, 2, 4, 6, 8]\n"
     ]
    }
   ],
   "source": [
    "n = int(input(\"enter a single digit number\"))\n",
    "\n",
    "even_nums = [i for i in range(n+1) if i % 2 == 0]\n",
    "print(even_nums)\n"
   ]
  }
 ]
}