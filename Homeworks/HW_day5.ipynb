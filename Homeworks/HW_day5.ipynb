{
 "metadata": {
  "language_info": {
   "codemirror_mode": {
    "name": "ipython",
    "version": 3
   },
   "file_extension": ".py",
   "mimetype": "text/x-python",
   "name": "python",
   "nbconvert_exporter": "python",
   "pygments_lexer": "ipython3",
   "version": "3.7.4-final"
  },
  "orig_nbformat": 2,
  "kernelspec": {
   "name": "python3",
   "display_name": "Python 3",
   "language": "python"
  }
 },
 "nbformat": 4,
 "nbformat_minor": 2,
 "cells": [
  {
   "source": [
    "**TASK:** Create three classes named Animals, Dogs and Cats. Add some features to these classes. Create some functions with these attributes. Don't forget! You have to do it using inheritance."
   ],
   "cell_type": "markdown",
   "metadata": {}
  },
  {
   "cell_type": "code",
   "execution_count": 9,
   "metadata": {},
   "outputs": [
    {
     "output_type": "stream",
     "name": "stdout",
     "text": [
      "Species:  Fish  | Habitat:  Sea  | Name:  Koi\nSpecies:  Horse  | Habitat:  Continent  | Name:  Bold\nBreed:  Terrier  | Name:  Brian  | Sex:  Female\nBrian is 12 years old\nBreed:  Shorthair  | Name:  Hazelnut  | Sex:  Male\nAverage Life of Hazelnut  is  6\n"
     ]
    }
   ],
   "source": [
    "### ======== Animals Class ======== ###\n",
    "class Animals():\n",
    "    def __init__(self, species, habitat, name):\n",
    "        self.species = species\n",
    "        self.habitat = habitat\n",
    "        self.name = name\n",
    "    \n",
    "    def print_all(self):\n",
    "        print(\"Species: \", self.species, \" | Habitat: \", self.habitat, \" | Name: \",self.name)\n",
    "    \n",
    "    def print_species(self):\n",
    "        print(\"Species: \", self.species)\n",
    "    \n",
    "    def print_unique(self):\n",
    "        print(\"Unique: \", self.species + self.name)\n",
    "\n",
    "### ======== Dogs Class ======== ###\n",
    "class Dogs():\n",
    "    def __init__(self, breed, birth, sex, name):\n",
    "        self.breed = breed\n",
    "        self.birth = birth\n",
    "        self.sex = sex\n",
    "        self.name = name\n",
    "    \n",
    "    def print_all(self):\n",
    "        print(\"Breed: \", self.breed, \" | Name: \", self.name, \" | Sex: \", self.sex)\n",
    "    \n",
    "    def print_age(self):\n",
    "        age = 2021 - self.birth + 1\n",
    "        print(self.name, \"is\", age, \"years old\")\n",
    "\n",
    "### ======== Cats Class ======== ###\n",
    "class Cats():\n",
    "    def __init__(self, breed, birth, sex, name):\n",
    "        self.breed = breed\n",
    "        self.birth = birth\n",
    "        self.sex = sex\n",
    "        self.name = name\n",
    "    \n",
    "    def print_all(self):\n",
    "        print(\"Breed: \", self.breed, \" | Name: \", self.name, \" | Sex: \", self.sex)\n",
    "    \n",
    "    def avr_life(self):\n",
    "        life = 16 - (2021 - self.birth + 1)\n",
    "        print(\"Average Life of \" + self.name, \" is \", life )\n",
    "\n",
    "\n",
    "### ======== Main Section ======== ###\n",
    "fish1 = Animals(\"Fish\", \"Sea\", \"Koi\")\n",
    "horse1 = Animals(\"Horse\", \"Continent\", \"Bold\")\n",
    "dog1 = Dogs(\"Terrier\", 2010, \"Female\", \"Brian\")\n",
    "cat1 = Cats(\"Shorthair\", 2012, \"Male\", \"Hazelnut\")\n",
    "\n",
    "fish1.print_all()\n",
    "horse1.print_all()\n",
    "dog1.print_all()\n",
    "dog1.print_age()\n",
    "cat1.print_all()\n",
    "cat1.avr_life()"
   ]
  },
  {
   "cell_type": "code",
   "execution_count": null,
   "metadata": {},
   "outputs": [],
   "source": []
  }
 ]
}