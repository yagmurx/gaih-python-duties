{
 "metadata": {
  "language_info": {
   "codemirror_mode": {
    "name": "ipython",
    "version": 3
   },
   "file_extension": ".py",
   "mimetype": "text/x-python",
   "name": "python",
   "nbconvert_exporter": "python",
   "pygments_lexer": "ipython3",
   "version": "3.7.4-final"
  },
  "orig_nbformat": 2,
  "kernelspec": {
   "name": "python3",
   "display_name": "Python 3",
   "language": "python"
  }
 },
 "nbformat": 4,
 "nbformat_minor": 2,
 "cells": [
  {
   "source": [
    "**TASK: ** Company Management System: Determine the names and ages of employees, company managers, and the languages they can speak. Then write a program that will print the languages that any of the employees can speak. In this project, complete the project by creating two classes named employees and manager."
   ],
   "cell_type": "markdown",
   "metadata": {}
  },
  {
   "cell_type": "code",
   "execution_count": 52,
   "metadata": {},
   "outputs": [
    {
     "output_type": "stream",
     "name": "stdout",
     "text": [
      "Employee's name:  Ali  | Employee's age:  40\nLanguages that he is able to speak:  {'Spanish'}\nEmployee's name:  Veli  | Employee's age:  30\nLanguages that he is able to speak:  {'Turkish', 'Spanish'}\nEmployee's name:  Mehmet  | Employee's age:  35\nLanguages that he is able to speak:  {'Turkish', 'German'}\nManager's name:  Haluk  | Manager's age:  40\nLanguages that he is able to speak:  {'English', 'German'}\n\n \nLanguages that can speak in this company are  {'Spanish', 'English', 'Turkish', 'German'}\n"
     ]
    }
   ],
   "source": [
    "###  ============== SOLUTION 1: LANGUAGE DATA IS STORED IN A SET ============== ###\n",
    "\n",
    "### ====== EMPOLOYEE CLASS ====== ###\n",
    "class employees():\n",
    "    def __init__(self, name, age):\n",
    "        self.name = name\n",
    "        self.age = age\n",
    "        self.language = set()\n",
    "    \n",
    "    def add_lang (self, lang):\n",
    "           self.language.add(lang)\n",
    "    \n",
    "    def employee_info(self):\n",
    "        print(\"Employee's name: \", self.name, \" | Employee's age: \", self.age)\n",
    "        print(\"Languages that he is able to speak: \", self.language )\n",
    "\n",
    "### ====== MANAGER CLASS ====== ###    \n",
    "class manager():\n",
    "    def __init__(self, name, age):\n",
    "        self.name = name\n",
    "        self.age = age\n",
    "        self.language = set()\n",
    "    \n",
    "    def add_lang(self, lang):\n",
    "        self.language.add(lang)\n",
    "    \n",
    "    def manager_info(self):\n",
    "        print(\"Manager's name: \", self.name, \" | Manager's age: \", self.age)\n",
    "        print(\"Languages that he is able to speak: \", self.language )\n",
    "    \n",
    "\n",
    "### ======= MAIN PROGRAM ======== ###\n",
    "emp1 = employees(\"Ali\", 40)\n",
    "emp1.add_lang(\"Spanish\")\n",
    "emp2 = employees(\"Veli\", 30)\n",
    "emp2.add_lang(\"Turkish\")\n",
    "emp2.add_lang(\"Spanish\")\n",
    "emp3 = employees(\"Mehmet\", 35)\n",
    "emp3.add_lang(\"Turkish\")\n",
    "emp3.add_lang(\"German\")\n",
    "man1 = manager(\"Haluk\", 40)\n",
    "man1.add_lang(\"English\")\n",
    "man1.add_lang(\"German\")\n",
    "\n",
    "emp1.employee_info()\n",
    "emp2.employee_info()\n",
    "emp3.employee_info()\n",
    "man1.manager_info()\n",
    "\n",
    "company_lang = set()\n",
    "company_lang.update(emp1.language)\n",
    "company_lang.update(emp2.language)\n",
    "company_lang.update(emp3.language)\n",
    "company_lang.update(man1.language)\n",
    "print(\"\\n \\nLanguages that can speak in this company are \", company_lang )\n",
    "\n",
    "\n"
   ]
  },
  {
   "cell_type": "code",
   "execution_count": 51,
   "metadata": {
    "tags": []
   },
   "outputs": [
    {
     "output_type": "stream",
     "name": "stdout",
     "text": [
      "Employee's name:  Brain  | Employee's age:  20\nLanguages that he is able to speak:  ['Deutch', 'English']\nEmployee's name:  Joe  | Employee's age:  25\nLanguages that he is able to speak:  ['Turkish', 'English']\nEmployee's name:  Tomy  | Employee's age:  25\nLanguages that he is able to speak:  ['Spanish', 'Deutch']\nManager's name:  Haluk  | Manager's age:  40\nLanguages that he is able to speak:  ['English', 'Deutch']\n\n \nLanguages that can speak in this company are  ['Deutch', 'English', 'Spanish', 'Turkish']\n"
     ]
    }
   ],
   "source": [
    "###  ============== SOLUTION 1: LANGUAGE DATA IS STORED IN A LIST ============== ###\n",
    "\n",
    "### ====== EMPOLOYEE CLASS ====== ###\n",
    "class employees():\n",
    "    def __init__(self, name, age):\n",
    "        self.name = name\n",
    "        self.age = age\n",
    "        self.language = []\n",
    "    \n",
    "    def add_lang (self, lang):\n",
    "           self.language.append(lang)\n",
    "    \n",
    "    def employee_info(self):\n",
    "        print(\"Employee's name: \", self.name, \" | Employee's age: \", self.age)\n",
    "        print(\"Languages that he is able to speak: \", self.language )\n",
    "\n",
    "### ====== MANAGER CLASS ====== ###    \n",
    "class manager():\n",
    "    def __init__(self, name, age):\n",
    "        self.name = name\n",
    "        self.age = age\n",
    "        self.language = []\n",
    "    \n",
    "    def add_lang(self, lang):\n",
    "        self.language.append(lang)\n",
    "    \n",
    "    def manager_info(self):\n",
    "        print(\"Manager's name: \", self.name, \" | Manager's age: \", self.age)\n",
    "        print(\"Languages that he is able to speak: \", self.language )\n",
    "    \n",
    "\n",
    "### ======= MAIN PROGRAM ======== ###\n",
    "\n",
    "empx = employees(\"Brain\", 20)\n",
    "empx.add_lang(\"Deutch\")\n",
    "empx.add_lang(\"English\")\n",
    "empy= employees(\"Joe\", 25)\n",
    "empy.add_lang(\"Turkish\")\n",
    "empy.add_lang(\"English\")\n",
    "empz= employees(\"Tomy\", 25)\n",
    "empz.add_lang(\"Spanish\")\n",
    "empz.add_lang(\"Deutch\")\n",
    "manx = manager(\"Haluk\", 40)\n",
    "manx.add_lang(\"English\")\n",
    "manx.add_lang(\"Deutch\")\n",
    "\n",
    "empx.employee_info()\n",
    "empy.employee_info()\n",
    "empz.employee_info()\n",
    "manx.manager_info()\n",
    "\n",
    "company_lang = []\n",
    "company_lang.extend(empx.language)\n",
    "company_lang.extend(empy.language)\n",
    "company_lang.extend(empz.language)\n",
    "company_lang.extend(manx.language)\n",
    "company_lang.sort()\n",
    "\n",
    "### ============ DELETING REPEATED LANGUAGES IN THE LIST ============ ###\n",
    "lenList = len(company_lang)\n",
    "i=1\n",
    "while i <= lenList:\n",
    "    j=0\n",
    "    while j <= lenList:\n",
    "        if company_lang[i] == company_lang[j]:\n",
    "            company_lang.pop(j)\n",
    "            lenList = lenList - 1\n",
    "\n",
    "        lenList = lenList - 1    \n",
    "        j += 1\n",
    "    i += 1\n",
    "\n",
    "############\n",
    "print(\"\\n \\nLanguages that can speak in this company are \", company_lang )"
   ]
  },
  {
   "cell_type": "code",
   "execution_count": null,
   "metadata": {},
   "outputs": [],
   "source": []
  }
 ]
}